{
 "cells": [
  {
   "cell_type": "code",
   "execution_count": 3,
   "metadata": {},
   "outputs": [
    {
     "name": "stdout",
     "output_type": "stream",
     "text": [
      "<module 'os' from '/home/hp/anaconda3/lib/python3.7/os.py'>\n"
     ]
    }
   ],
   "source": [
    "#  Write a Python program to get the name of the operating system (Platform independent), \n",
    "#     information of current operating system, current working directory, print files and \n",
    "#     directories in the current directory and \n",
    "    #raises error in the case of invalid or inaccessible file names and paths\n",
    "import os \n",
    "import platform\n",
    "print(platform.os)"
   ]
  },
  {
   "cell_type": "code",
   "execution_count": 5,
   "metadata": {},
   "outputs": [
    {
     "name": "stdout",
     "output_type": "stream",
     "text": [
      "/home/hp/Desktop/Python OS Services\n"
     ]
    }
   ],
   "source": [
    "import os\n",
    "print(os.getcwd())"
   ]
  },
  {
   "cell_type": "code",
   "execution_count": 6,
   "metadata": {},
   "outputs": [
    {
     "name": "stdout",
     "output_type": "stream",
     "text": [
      "THe current working directory\n",
      "/home/hp/Desktop/Python OS Services\n",
      "THe current working directory\n",
      "/home/hp/Desktop\n"
     ]
    }
   ],
   "source": [
    "def directory():\n",
    "    print('THe current working directory')\n",
    "    print(os.getcwd())\n",
    "directory()\n",
    "os.chdir(\"../\")\n",
    "directory()"
   ]
  },
  {
   "cell_type": "code",
   "execution_count": 11,
   "metadata": {},
   "outputs": [
    {
     "ename": "FileExistsError",
     "evalue": "[Errno 17] File exists: '/home/hp/Desktop/win for all'",
     "output_type": "error",
     "traceback": [
      "\u001b[0;31m---------------------------------------------------------------------------\u001b[0m",
      "\u001b[0;31mFileExistsError\u001b[0m                           Traceback (most recent call last)",
      "\u001b[0;32m<ipython-input-11-18969ce4544c>\u001b[0m in \u001b[0;36m<module>\u001b[0;34m\u001b[0m\n\u001b[1;32m      4\u001b[0m \u001b[0mmode\u001b[0m\u001b[0;34m=\u001b[0m\u001b[0;36m0o66\u001b[0m\u001b[0;34m\u001b[0m\u001b[0;34m\u001b[0m\u001b[0m\n\u001b[1;32m      5\u001b[0m \u001b[0mpath\u001b[0m\u001b[0;34m=\u001b[0m\u001b[0mos\u001b[0m\u001b[0;34m.\u001b[0m\u001b[0mpath\u001b[0m\u001b[0;34m.\u001b[0m\u001b[0mjoin\u001b[0m\u001b[0;34m(\u001b[0m\u001b[0mparent\u001b[0m\u001b[0;34m,\u001b[0m\u001b[0mdirec\u001b[0m\u001b[0;34m)\u001b[0m\u001b[0;34m\u001b[0m\u001b[0;34m\u001b[0m\u001b[0m\n\u001b[0;32m----> 6\u001b[0;31m \u001b[0mos\u001b[0m\u001b[0;34m.\u001b[0m\u001b[0mmkdir\u001b[0m\u001b[0;34m(\u001b[0m\u001b[0mpath\u001b[0m\u001b[0;34m,\u001b[0m\u001b[0mmode\u001b[0m\u001b[0;34m)\u001b[0m\u001b[0;34m\u001b[0m\u001b[0;34m\u001b[0m\u001b[0m\n\u001b[0m\u001b[1;32m      7\u001b[0m \u001b[0mprint\u001b[0m\u001b[0;34m(\u001b[0m\u001b[0mdirec\u001b[0m\u001b[0;34m)\u001b[0m\u001b[0;34m\u001b[0m\u001b[0;34m\u001b[0m\u001b[0m\n",
      "\u001b[0;31mFileExistsError\u001b[0m: [Errno 17] File exists: '/home/hp/Desktop/win for all'"
     ]
    }
   ],
   "source": [
    "import os\n",
    "direc='win for all'\n",
    "parent='/home/hp/Desktop'\n",
    "mode=0o66\n",
    "path=os.path.join(parent,direc)\n",
    "os.mkdir(path,mode)\n",
    "print(direc)"
   ]
  },
  {
   "cell_type": "code",
   "execution_count": 13,
   "metadata": {},
   "outputs": [
    {
     "name": "stdout",
     "output_type": "stream",
     "text": [
      "['lib32', 'bin', 'swapfile', 'lost+found', 'home', 'var', 'etc', 'sbin', 'lib64', 'run', 'cdrom', 'root', 'usr', 'libx32', 'media', 'proc', 'mnt', 'lib', 'snap', 'tmp', 'dev', 'opt', 'sys', 'boot', 'srv']\n"
     ]
    }
   ],
   "source": [
    "import os\n",
    "path='/'\n",
    "data=os.listdir(path)\n",
    "print(data)"
   ]
  },
  {
   "cell_type": "code",
   "execution_count": 14,
   "metadata": {},
   "outputs": [
    {
     "name": "stdout",
     "output_type": "stream",
     "text": [
      "posix\n"
     ]
    }
   ],
   "source": [
    "import os\n",
    "print(os.name)"
   ]
  },
  {
   "cell_type": "code",
   "execution_count": 18,
   "metadata": {},
   "outputs": [
    {
     "name": "stdout",
     "output_type": "stream",
     "text": [
      "False\n"
     ]
    }
   ],
   "source": [
    "import os\n",
    "print(os.path.exists('checking something'))"
   ]
  },
  {
   "cell_type": "code",
   "execution_count": 19,
   "metadata": {},
   "outputs": [
    {
     "name": "stdout",
     "output_type": "stream",
     "text": [
      "True\n"
     ]
    }
   ],
   "source": [
    "import os\n",
    "print(os.path.exists('win for all'))"
   ]
  },
  {
   "cell_type": "code",
   "execution_count": 20,
   "metadata": {},
   "outputs": [
    {
     "name": "stdout",
     "output_type": "stream",
     "text": [
      "4096\n"
     ]
    }
   ],
   "source": [
    "print(os.path.getsize('win for all'))"
   ]
  },
  {
   "cell_type": "code",
   "execution_count": 27,
   "metadata": {},
   "outputs": [
    {
     "name": "stdout",
     "output_type": "stream",
     "text": [
      "posix\n",
      "posix.uname_result(sysname='Linux', nodename='hp-HP-Laptop-15-bs0xx', release='5.13.0-27-generic', version='#29-Ubuntu SMP Wed Jan 12 17:36:47 UTC 2022', machine='x86_64')\n",
      "/home/hp/Desktop\n",
      "['Webscarping to csv', 'win for all', 'condtions brain hack', 'image downlaoder', 'Pdf to csv', 'image.jpg_fit=scale', 'computer vision', 'ppython1', 'list brain hack', 'modulus random hack', 'Python OS Services', 'books', 'artificial_intelligence_phd-scholorship.png.crdownload', 'imagesypacy', 'string brain hack', 'Attendance Tracker ', 'Brainhack', 'json hack', 'cache', 'image', '1.png', 'Screenshot from 2022-01-09 09-40-37.png', 'micleanous', 'Python Collections', 'attachment report', 'Motion detector']\n"
     ]
    }
   ],
   "source": [
    " # Write a Python program to get the name of the operating system (Platform independent), \n",
    "#     information of current operating system, current working directory, print files and \n",
    "#     directories in the current directory and \n",
    "    #raises error in the case of invalid or inaccessible file names and paths\n",
    "    \n",
    "import os\n",
    "print(os.name)\n",
    "print(os.uname())\n",
    "print(os.getcwd())\n",
    "print(os.listdir())"
   ]
  },
  {
   "cell_type": "code",
   "execution_count": 30,
   "metadata": {},
   "outputs": [
    {
     "name": "stdout",
     "output_type": "stream",
     "text": [
      "0\n"
     ]
    }
   ],
   "source": [
    "import os\n",
    "cms='date'\n",
    "print(os.system(cms))"
   ]
  },
  {
   "cell_type": "code",
   "execution_count": 31,
   "metadata": {},
   "outputs": [
    {
     "data": {
      "text/plain": [
       "0"
      ]
     },
     "execution_count": 31,
     "metadata": {},
     "output_type": "execute_result"
    }
   ],
   "source": [
    "\n",
    "# Python program to explain os.system() method \n",
    "      \n",
    "# importing os module \n",
    "import os \n",
    "  \n",
    "# Command to execute\n",
    "# Using Windows OS command\n",
    "cmd = 'date'\n",
    "  \n",
    "# Using os.system() method\n",
    "os.system(cmd)"
   ]
  },
  {
   "cell_type": "code",
   "execution_count": 32,
   "metadata": {},
   "outputs": [
    {
     "data": {
      "text/plain": [
       "32512"
      ]
     },
     "execution_count": 32,
     "metadata": {},
     "output_type": "execute_result"
    }
   ],
   "source": [
    "import os \n",
    "  \n",
    "# Command to execute\n",
    "# Using Windows OS command\n",
    "cmd = 'notepad'\n",
    "  \n",
    "# Using os.system() method\n",
    "os.system(cmd)"
   ]
  },
  {
   "cell_type": "code",
   "execution_count": 33,
   "metadata": {},
   "outputs": [
    {
     "data": {
      "text/plain": [
       "0"
      ]
     },
     "execution_count": 33,
     "metadata": {},
     "output_type": "execute_result"
    }
   ],
   "source": [
    "import os\n",
    "if os.name == \"nt\":\n",
    "    command = \"dir\"\n",
    "else:\n",
    "    command = \"ls -l\"\n",
    "os.system(command)"
   ]
  },
  {
   "cell_type": "code",
   "execution_count": 37,
   "metadata": {},
   "outputs": [
    {
     "name": "stdout",
     "output_type": "stream",
     "text": [
      "<generator object walk at 0x7faf67136bd0>\n"
     ]
    }
   ],
   "source": [
    "print(os.walk('/home/hp'))"
   ]
  },
  {
   "cell_type": "code",
   "execution_count": 5,
   "metadata": {},
   "outputs": [
    {
     "name": "stdout",
     "output_type": "stream",
     "text": [
      "/home/hp/Desktop\n"
     ]
    }
   ],
   "source": [
    "import os\n",
    "path='/home/hp/Desktop'\n",
    "os.scandir(path)\n",
    "print(path)"
   ]
  },
  {
   "cell_type": "code",
   "execution_count": 9,
   "metadata": {},
   "outputs": [
    {
     "data": {
      "text/plain": [
       "True"
      ]
     },
     "execution_count": 9,
     "metadata": {},
     "output_type": "execute_result"
    }
   ],
   "source": [
    "import os\n",
    "data=os.access('/home/hp/Desktop',os.F_OK)\n",
    "data"
   ]
  },
  {
   "cell_type": "code",
   "execution_count": 13,
   "metadata": {},
   "outputs": [
    {
     "name": "stdout",
     "output_type": "stream",
     "text": [
      "os.stat_result(st_mode=16877, st_ino=393251, st_dev=2050, st_nlink=24, st_uid=1000, st_gid=1000, st_size=4096, st_atime=1642717930, st_mtime=1642717930, st_ctime=1642717930)\n"
     ]
    }
   ],
   "source": [
    "import os\n",
    "path='/home/hp/Desktop'\n",
    "print(os.stat(path))"
   ]
  },
  {
   "cell_type": "code",
   "execution_count": null,
   "metadata": {},
   "outputs": [],
   "source": []
  }
 ],
 "metadata": {
  "kernelspec": {
   "display_name": "Python 3",
   "language": "python",
   "name": "python3"
  },
  "language_info": {
   "codemirror_mode": {
    "name": "ipython",
    "version": 3
   },
   "file_extension": ".py",
   "mimetype": "text/x-python",
   "name": "python",
   "nbconvert_exporter": "python",
   "pygments_lexer": "ipython3",
   "version": "3.7.6"
  }
 },
 "nbformat": 4,
 "nbformat_minor": 4
}
